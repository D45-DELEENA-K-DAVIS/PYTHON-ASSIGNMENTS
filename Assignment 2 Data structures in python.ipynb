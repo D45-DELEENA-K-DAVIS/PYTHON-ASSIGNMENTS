{
 "cells": [
  {
   "cell_type": "code",
   "execution_count": 3,
   "id": "9a050237-bca6-42d5-a3c2-0149f7e71462",
   "metadata": {},
   "outputs": [
    {
     "name": "stdout",
     "output_type": "stream",
     "text": [
      "numbers: [100, 4, 77, 99, 45]\n"
     ]
    }
   ],
   "source": [
    "# LIST\n",
    "# EXERCISE 1\n",
    "numbers=[100,4,77,99,45]\n",
    "print(\"numbers:\",numbers[0:5])"
   ]
  },
  {
   "cell_type": "code",
   "execution_count": 1,
   "id": "d8d9fb8c-a71c-4974-8088-e6a03ac42662",
   "metadata": {},
   "outputs": [
    {
     "name": "stdout",
     "output_type": "stream",
     "text": [
      "[100, 4, 77, 99, 45, 10, 90, 55]\n"
     ]
    }
   ],
   "source": [
    "# EXERCISE 2\n",
    "numbers=[100,4,77,99,45]\n",
    "numbers.append(10)\n",
    "numbers.append(90)\n",
    "numbers.append(55)\n",
    "print(numbers)"
   ]
  },
  {
   "cell_type": "code",
   "execution_count": 85,
   "id": "e73e4bfb-bd0c-4c9c-bbca-1eeccf98c24f",
   "metadata": {},
   "outputs": [
    {
     "name": "stdout",
     "output_type": "stream",
     "text": [
      "100\n",
      "4\n",
      "77\n",
      "99\n",
      "45\n",
      "10\n",
      "90\n",
      "55\n"
     ]
    }
   ],
   "source": [
    "# EXERCISE 3\n",
    "numbers=[100,4,77,99,45,10,90,55]\n",
    "for i in numbers:\n",
    "     print(i)"
   ]
  },
  {
   "cell_type": "code",
   "execution_count": 93,
   "id": "bed0c64a-cf40-4aee-aa81-606c1509ccc2",
   "metadata": {},
   "outputs": [
    {
     "name": "stdout",
     "output_type": "stream",
     "text": [
      "{'name': 'john', 'age': 23, 'address': 'new york'}\n"
     ]
    }
   ],
   "source": [
    "# DICTIONARY\n",
    "# EXERCISE 1\n",
    "DICTIONARY ={\n",
    "    'name':'john',\n",
    "    'age':23,\n",
    "    'address':'new york'\n",
    "}\n",
    "print(DICTIONARY)"
   ]
  },
  {
   "cell_type": "code",
   "execution_count": 95,
   "id": "fd308785-45d4-41b3-9d04-c5b6e0d379db",
   "metadata": {},
   "outputs": [
    {
     "name": "stdout",
     "output_type": "stream",
     "text": [
      "{'name': 'john', 'age': 23, 'address': 'new york', 'phone': '1234567890'}\n"
     ]
    }
   ],
   "source": [
    "# EXERCISE 2\n",
    "DICTIONARY['phone']='1234567890'\n",
    "print(DICTIONARY)"
   ]
  },
  {
   "cell_type": "code",
   "execution_count": 11,
   "id": "ece54802-e3fe-4fc9-ac6c-2ae573bd7cf5",
   "metadata": {},
   "outputs": [
    {
     "name": "stdout",
     "output_type": "stream",
     "text": [
      "Set: {1, 2, 3, 4, 5}\n"
     ]
    }
   ],
   "source": [
    "# SET\n",
    "# EXERCISE 1\n",
    "Set={1,2,3,4,5}\n",
    "print(\"Set:\",Set)"
   ]
  },
  {
   "cell_type": "code",
   "execution_count": 19,
   "id": "b86dfdba-0ff7-488f-9b77-81a064d43113",
   "metadata": {},
   "outputs": [
    {
     "name": "stdout",
     "output_type": "stream",
     "text": [
      "Set: {1, 2, 3, 4, 5, 6}\n"
     ]
    }
   ],
   "source": [
    "# EXERCISE 2\n",
    "Set={1,2,3,4,5}\n",
    "Set.add(6)\n",
    "print(\"Set:\",Set)"
   ]
  },
  {
   "cell_type": "code",
   "execution_count": 25,
   "id": "1b5ca002-b1ea-418f-87ad-0f07c8fa78d7",
   "metadata": {},
   "outputs": [
    {
     "name": "stdout",
     "output_type": "stream",
     "text": [
      "Set: {1, 2, 4, 5, 6}\n"
     ]
    }
   ],
   "source": [
    "# EXERCISE 3\n",
    "Set={1,2,3,4,5,6}\n",
    "Set.remove(3)\n",
    "print(\"Set:\",Set)"
   ]
  },
  {
   "cell_type": "code",
   "execution_count": 27,
   "id": "1c69e227-5e77-49ea-9d4d-8a0937f936ba",
   "metadata": {},
   "outputs": [
    {
     "data": {
      "text/plain": [
       "(1, 2, 3, 4)"
      ]
     },
     "execution_count": 27,
     "metadata": {},
     "output_type": "execute_result"
    }
   ],
   "source": [
    "# TUPLE\n",
    "# EXERCISE 1\n",
    "T1=(1,2,3,4)\n",
    "T1"
   ]
  },
  {
   "cell_type": "code",
   "execution_count": 7,
   "id": "267f7b14-da11-4297-9c3a-d8c1c9cd9beb",
   "metadata": {},
   "outputs": [
    {
     "name": "stdout",
     "output_type": "stream",
     "text": [
      "Length of the tuple T1: 4\n"
     ]
    }
   ],
   "source": [
    "# EXERCISE 2\n",
    "print(\"Length of the tuple T1:\",len(T1))"
   ]
  },
  {
   "cell_type": "code",
   "execution_count": null,
   "id": "a405f572-f773-46a7-ac30-2d3dc343b615",
   "metadata": {},
   "outputs": [],
   "source": []
  }
 ],
 "metadata": {
  "kernelspec": {
   "display_name": "Python [conda env:base] *",
   "language": "python",
   "name": "conda-base-py"
  },
  "language_info": {
   "codemirror_mode": {
    "name": "ipython",
    "version": 3
   },
   "file_extension": ".py",
   "mimetype": "text/x-python",
   "name": "python",
   "nbconvert_exporter": "python",
   "pygments_lexer": "ipython3",
   "version": "3.12.7"
  }
 },
 "nbformat": 4,
 "nbformat_minor": 5
}
