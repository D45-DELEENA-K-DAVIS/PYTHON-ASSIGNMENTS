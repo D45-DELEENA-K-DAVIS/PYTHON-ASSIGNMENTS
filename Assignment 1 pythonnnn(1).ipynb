{
 "cells": [
  {
   "cell_type": "code",
   "execution_count": 4,
   "id": "18ec861e-f183-478d-8f36-cf3ddb4e183f",
   "metadata": {},
   "outputs": [
    {
     "name": "stdout",
     "output_type": "stream",
     "text": [
      "DELEENA K DAVIS\n",
      "D45\n",
      "deleenakdavis@gmail.com\n"
     ]
    }
   ],
   "source": [
    "# EXERCISE 1\n",
    "print(\"DELEENA K DAVIS\")\n",
    "print(\"D45\")\n",
    "print(\"deleenakdavis@gmail.com\")\n"
   ]
  },
  {
   "cell_type": "code",
   "execution_count": null,
   "id": "3b4a544c-709b-493c-8041-cf2cda3ff893",
   "metadata": {},
   "outputs": [],
   "source": [
    "# EXERCISE 2\n",
    "print(\"DELEENA K DAVIS\\nD45\\ndeleenakdavis@gmail.com\")"
   ]
  },
  {
   "cell_type": "code",
   "execution_count": 17,
   "id": "6df5091a-f632-423d-8259-97f5e2039850",
   "metadata": {},
   "outputs": [
    {
     "name": "stdout",
     "output_type": "stream",
     "text": [
      "14 + 7 = 21\n",
      "14 * 7 = 98\n",
      "14 - 7 = 7\n",
      "14 / 7 = 2.0\n"
     ]
    }
   ],
   "source": [
    "# EXERCISE 3\n",
    "A=14\n",
    "B=7\n",
    "print('14 + 7 =', A+B)\n",
    "print('14 * 7 =', A*B)\n",
    "print('14 - 7 =', A-B)\n",
    "print('14 / 7 =', A/B)"
   ]
  },
  {
   "cell_type": "code",
   "execution_count": 29,
   "id": "cb247865-5e62-4bf5-a6cf-6d464ff7259e",
   "metadata": {},
   "outputs": [
    {
     "name": "stdout",
     "output_type": "stream",
     "text": [
      "1\n",
      "2\n",
      "3\n",
      "4\n",
      "5\n"
     ]
    }
   ],
   "source": [
    "# EXERCISE 4\n",
    "for x in range(1,6):\n",
    "   print(x)"
   ]
  },
  {
   "cell_type": "code",
   "execution_count": 35,
   "id": "79ed8603-a95c-4daa-8ee2-e196ad838a03",
   "metadata": {},
   "outputs": [
    {
     "name": "stdout",
     "output_type": "stream",
     "text": [
      "\"SDK\" stands for \"Software Development Kit\",whereas\n",
      "\"IDE\" stands for \"Integrated Development Environment\".\n"
     ]
    }
   ],
   "source": [
    "# EXERCISE 5\n",
    "print('\"SDK\" stands for \"Software Development Kit\",whereas\\n\"IDE\" stands for \"Integrated Development Environment\".')"
   ]
  },
  {
   "cell_type": "code",
   "execution_count": 39,
   "id": "5fdea3fb-fe6b-47ed-b46c-fa781d184961",
   "metadata": {},
   "outputs": [
    {
     "name": "stdout",
     "output_type": "stream",
     "text": [
      "python is an \"awesome\" language.\n",
      "python\n",
      "\t2023\n",
      "I'm from Entri\n",
      "5\n",
      "e\n",
      "Entri\n",
      "2023\n",
      "Entr2023\n",
      "Entri*20"
     ]
    }
   ],
   "source": [
    "# EXERCISE 6\n",
    "print(\"python is an \\\"awesome\\\" language.\")\n",
    "print(\"python\\n\\t2023\")\n",
    "print('I\\'m from Entri.\\b')\n",
    "print(\"\\65\")\n",
    "print(\"\\x65\")\n",
    "print(\"Entri\",\"2023\",sep=\"\\n\")\n",
    "print(\"Entri\",\"2023\",sep=\"\\b\")\n",
    "print(\"Entri\",\"2023\",sep=\"*\",end=\"\\b\\b\\b\\b\")"
   ]
  },
  {
   "cell_type": "code",
   "execution_count": 45,
   "id": "9f924b5d-7bcd-4177-a131-682153e1564c",
   "metadata": {},
   "outputs": [
    {
     "name": "stdout",
     "output_type": "stream",
     "text": [
      "Type of num: <class 'int'>\n",
      "Type of textum: <class 'str'>\n",
      "Type of decimal: <class 'float'>\n",
      "sum: 178.3\n"
     ]
    }
   ],
   "source": [
    "# EXERCISE 7\n",
    "num=23\n",
    "textnum=\"57\"\n",
    "decimal=98.3\n",
    "print(\"Type of num:\",type(num))\n",
    "print(\"Type of textum:\",type(textnum))\n",
    "print(\"Type of decimal:\",type(decimal))\n",
    "print(\"sum:\",num+int(textnum)+decimal)\n",
    "print(\"Type of sum:\",type(sum))     "
   ]
  },
  {
   "cell_type": "code",
   "execution_count": 85,
   "id": "1d7e3590-7501-4a59-a0c3-121c0c01d61e",
   "metadata": {},
   "outputs": [
    {
     "name": "stdout",
     "output_type": "stream",
     "text": [
      "We can calculate TOTAL MINUTES IN A YEAR by : Total days in a year * Minute in a hour * Hours in a day\n",
      "TOTAL MINUTES IN A YEAR: 525600\n"
     ]
    }
   ],
   "source": [
    "# EXERCISE 8 \n",
    "Days_in_a_year = 365\n",
    "Minute_in_a_hour = 60\n",
    "Hours_in_a_day = 24   \n",
    "print(\"We can calculate TOTAL MINUTES IN A YEAR by : Total days in a year * Minute in a hour * Hours in a day\")\n",
    "print(\"TOTAL MINUTES IN A YEAR:\",Days_in_a_year*Minute_in_a_hour*Hours_in_a_day)"
   ]
  },
  {
   "cell_type": "code",
   "execution_count": 109,
   "id": "4402d392-cd15-430f-85ec-1364284a0ab4",
   "metadata": {},
   "outputs": [
    {
     "name": "stdout",
     "output_type": "stream",
     "text": [
      "Please enter your name: DELEENA\n",
      " Hi DELEENA, GOOD MORNING:) \n"
     ]
    }
   ],
   "source": [
    "# EXERCISE 9\n",
    "Name=\"DELEENA\"\n",
    "print(\"Please enter your name:\",Name)\n",
    "print(\" Hi \"+Name+ \", GOOD MORNING:) \")"
   ]
  },
  {
   "cell_type": "code",
   "execution_count": 1,
   "id": "a365f1cc-2d6d-45df-8277-b34202a95718",
   "metadata": {},
   "outputs": [
    {
     "name": "stdout",
     "output_type": "stream",
     "text": [
      "Please enter amount in pounds: 2\n",
      "Pounds to Dollar: 2.52\n"
     ]
    }
   ],
   "source": [
    "# EXERCISE 10\n",
    "Pounds=2\n",
    "print(\"Please enter amount in pounds:\",Pounds)\n",
    "rate_difference=1.26\n",
    "print(\"Pounds to Dollar:\",Pounds*rate_difference)"
   ]
  },
  {
   "cell_type": "code",
   "execution_count": null,
   "id": "45467b62-f280-4035-8ee0-a81cac2400cc",
   "metadata": {},
   "outputs": [],
   "source": []
  },
  {
   "cell_type": "code",
   "execution_count": null,
   "id": "99af71e9-2ee8-496d-863b-b3176b138e9f",
   "metadata": {},
   "outputs": [],
   "source": []
  },
  {
   "cell_type": "code",
   "execution_count": null,
   "id": "79b37523-8306-49e7-ac76-5d25ac787464",
   "metadata": {},
   "outputs": [],
   "source": []
  }
 ],
 "metadata": {
  "kernelspec": {
   "display_name": "Python [conda env:base] *",
   "language": "python",
   "name": "conda-base-py"
  },
  "language_info": {
   "codemirror_mode": {
    "name": "ipython",
    "version": 3
   },
   "file_extension": ".py",
   "mimetype": "text/x-python",
   "name": "python",
   "nbconvert_exporter": "python",
   "pygments_lexer": "ipython3",
   "version": "3.12.7"
  }
 },
 "nbformat": 4,
 "nbformat_minor": 5
}
