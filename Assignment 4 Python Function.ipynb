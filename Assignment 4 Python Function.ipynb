{
 "cells": [
  {
   "cell_type": "code",
   "execution_count": 25,
   "id": "4852098c-5254-42f7-b6d6-0ee330822a0f",
   "metadata": {},
   "outputs": [
    {
     "name": "stdout",
     "output_type": "stream",
     "text": [
      "a + b = 8\n",
      "a * b * c = 750\n"
     ]
    }
   ],
   "source": [
    "# EXERCISE 1\n",
    "def arguments(a, b, c):\n",
    "    if c is None:\n",
    "        print(\"a + b =\",a + b)\n",
    "    else:\n",
    "        print(\"a * b * c =\",a*b*c)\n",
    "arguments(a=3,b=5,c=None)\n",
    "arguments(a=5,b=10,c=15)"
   ]
  },
  {
   "cell_type": "code",
   "execution_count": 73,
   "id": "022c7d2d-b0a4-41e2-afcd-cf009866b3bb",
   "metadata": {},
   "outputs": [
    {
     "name": "stdout",
     "output_type": "stream",
     "text": [
      "['monkey', 'elephant', 'squirrel']\n"
     ]
    }
   ],
   "source": [
    "# EXERCISE 2\n",
    "def list_of_strings(strings):\n",
    "    return [string for string in strings if len(string) >= 5]\n",
    "strings=[\"monkey\",\"lion\",\"bat\",\"elephant\",\"squirrel\", \"cat\", \"dog\"]    \n",
    "filtered_words = list_of_strings(strings)\n",
    "print(filtered_words)"
   ]
  },
  {
   "cell_type": "code",
   "execution_count": 75,
   "id": "fef2f3b3-c54a-4a74-af2d-4e2e4851389f",
   "metadata": {},
   "outputs": [
    {
     "name": "stdout",
     "output_type": "stream",
     "text": [
      "17\n"
     ]
    }
   ],
   "source": [
    "# EXERCISE 3\n",
    "x=3\n",
    "y=5\n",
    "z=2\n",
    "result=eval(\"x*y+z\")\n",
    "print(result)"
   ]
  },
  {
   "cell_type": "code",
   "execution_count": 81,
   "id": "34fd2c03-58b6-4cc7-a9b5-8be48d32be02",
   "metadata": {},
   "outputs": [
    {
     "name": "stdout",
     "output_type": "stream",
     "text": [
      "Prime numbers: [2, 3, 5, 7]\n"
     ]
    }
   ],
   "source": [
    "# EXERCISE 4\n",
    "def filterdata(n):\n",
    "    if n<=1:\n",
    "        return False\n",
    "    for i in range(2, int(n ** 0.5) + 1):\n",
    "        if n % i == 0:\n",
    "            return False\n",
    "    return True\n",
    "prime_numbers=filter(filterdata,(1,2,3,4,5,6,7,8,9,10))\n",
    "print(\"Prime numbers:\",list(prime_numbers))\n"
   ]
  },
  {
   "cell_type": "code",
   "execution_count": 83,
   "id": "1bf5f699-e557-476c-9dc6-adfaccbc261c",
   "metadata": {},
   "outputs": [
    {
     "name": "stdout",
     "output_type": "stream",
     "text": [
      "['HI', 'HELLO', 'BYE']\n"
     ]
    }
   ],
   "source": [
    "# ERERCISE 5\n",
    "strings=(\"hi\",\"hello\",\"bye\")\n",
    "result=map(str.upper,strings)\n",
    "print(list(result))"
   ]
  },
  {
   "cell_type": "code",
   "execution_count": null,
   "id": "4678246c-3923-40d9-9705-9736b78f39e7",
   "metadata": {},
   "outputs": [],
   "source": []
  }
 ],
 "metadata": {
  "kernelspec": {
   "display_name": "Python [conda env:base] *",
   "language": "python",
   "name": "conda-base-py"
  },
  "language_info": {
   "codemirror_mode": {
    "name": "ipython",
    "version": 3
   },
   "file_extension": ".py",
   "mimetype": "text/x-python",
   "name": "python",
   "nbconvert_exporter": "python",
   "pygments_lexer": "ipython3",
   "version": "3.12.7"
  }
 },
 "nbformat": 4,
 "nbformat_minor": 5
}
