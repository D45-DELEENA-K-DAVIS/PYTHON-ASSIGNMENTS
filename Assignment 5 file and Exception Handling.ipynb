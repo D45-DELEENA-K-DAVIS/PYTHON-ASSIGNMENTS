{
 "cells": [
  {
   "cell_type": "code",
   "execution_count": 1,
   "id": "422dfa42-b5a1-4027-a7c3-5462ef30b6bd",
   "metadata": {},
   "outputs": [
    {
     "name": "stdout",
     "output_type": "stream",
     "text": [
      "content of the opened file is:\n",
      "ÿþ \u0000H\u0000E\u0000L\u0000L\u0000O\u0000 \u0000E\u0000V\u0000E\u0000R\u0000Y\u0000O\u0000N\u0000E\u0000 \u0000H\u0000O\u0000W\u0000 \u0000C\u0000A\u0000N\u0000 \u0000I\u0000 \u0000H\u0000E\u0000L\u0000P\u0000 \u0000Y\u0000O\u0000U\u0000 \u0000?\u0000\n"
     ]
    }
   ],
   "source": [
    "# EXERCISE 1\n",
    "with open(r'C:\\Users\\DEVIS\\Desktop\\D45_DELEENA_READ_CONTENT.txt.txt','r') as abc:\n",
    "    content = abc.read()\n",
    "    print('content of the opened file is:')\n",
    "    print(content)"
   ]
  },
  {
   "cell_type": "code",
   "execution_count": 3,
   "id": "b9b89c02-4b63-413d-acc4-072ecea231c2",
   "metadata": {},
   "outputs": [
    {
     "name": "stdout",
     "output_type": "stream",
     "text": [
      "Content of the opened file is:\n",
      "Hello All\n"
     ]
    }
   ],
   "source": [
    "# EXERCISE 2\n",
    "with open('D45_DELEENA_.txt', 'w') as abc:\n",
    "    abc.write('Hello All')\n",
    "\n",
    "\n",
    "with open('D45_DELEENA_.txt', 'r') as abc:\n",
    "    content = abc.read() \n",
    "\n",
    "with open('D45_DELEENA_READ_CONTENT.txt', 'w') as xyz:\n",
    "    xyz.write(content)  \n",
    "\n",
    "\n",
    "with open('D45_DELEENA_READ_CONTENT.txt', 'r') as xyz:\n",
    "    content = xyz.read()\n",
    "\n",
    "print('Content of the opened file is:')\n",
    "print(content)"
   ]
  },
  {
   "cell_type": "code",
   "execution_count": 5,
   "id": "bdaf051b-24ca-419f-8744-23b8721d12de",
   "metadata": {},
   "outputs": [
    {
     "name": "stdout",
     "output_type": "stream",
     "text": [
      "content of the opened file is:\n",
      "Hello All\n",
      "Total number of words in the file: 9\n"
     ]
    }
   ],
   "source": [
    "# EXERCISE 3\n",
    "with open('D45_DELEENA_.txt','r') as abc:\n",
    "    content = abc.read()\n",
    "    print('content of the opened file is:')\n",
    "    print(content)\n",
    "total_number =len(\"Hello All\")\n",
    "print(\"Total number of words in the file:\",total_number)"
   ]
  },
  {
   "cell_type": "code",
   "execution_count": 7,
   "id": "9b03efcd-6d9b-4c11-bf5c-8ea8a0bdbae7",
   "metadata": {},
   "outputs": [
    {
     "name": "stdin",
     "output_type": "stream",
     "text": [
      "Please enter a string to convert to an integer:  414\n"
     ]
    },
    {
     "name": "stdout",
     "output_type": "stream",
     "text": [
      "The converted integer is: 414\n"
     ]
    }
   ],
   "source": [
    "# EXERCISE 4\n",
    "user_input = input(\"Please enter a string to convert to an integer: \")\n",
    "try:\n",
    "    converted_integer = int(user_input)\n",
    "    print(\"The converted integer is:\",converted_integer)\n",
    "except ValueError:\n",
    "    print(\"Error: The input is not a valid integer.\")\n",
    "except Exception as e:\n",
    "    print(\"An unexpected error occurred:\",e)"
   ]
  },
  {
   "cell_type": "code",
   "execution_count": 9,
   "id": "b16ae35d-32b9-4242-bafa-15b9d1d73b60",
   "metadata": {},
   "outputs": [
    {
     "name": "stdin",
     "output_type": "stream",
     "text": [
      "Please enter a list of integers separated by spaces:  -5 -4 -3 -2 -1\n"
     ]
    },
    {
     "name": "stdout",
     "output_type": "stream",
     "text": [
      "Error: Error: negative numbers are not allowed.\n"
     ]
    }
   ],
   "source": [
    "# EXERCISE 5\n",
    "try:\n",
    "    list_of_integers = list(map(int, input(\"Please enter a list of integers separated by spaces: \").split()))\n",
    "    for number in list_of_integers:\n",
    "        if number < 0:\n",
    "            raise ValueError(\"Error: negative numbers are not allowed.\")\n",
    "    print(\"Non-negative numbers are valid in list:\", list_of_integers)\n",
    "except ValueError as e:\n",
    "    print(\"Error:\", e)"
   ]
  },
  {
   "cell_type": "code",
   "execution_count": 23,
   "id": "6986e52b-35b3-4842-ab9c-aef3870d53f1",
   "metadata": {},
   "outputs": [
    {
     "name": "stdin",
     "output_type": "stream",
     "text": [
      "Please enter a list of integers separated by spaces:  2 4 6 8 \n"
     ]
    },
    {
     "name": "stdout",
     "output_type": "stream",
     "text": [
      "The average is: 5.0\n",
      "The program has finished running\n"
     ]
    }
   ],
   "source": [
    "# EXERCISE 6\n",
    "try:\n",
    "    list_of_integers = list(map(int, input(\"Please enter a list of integers separated by spaces: \").split()))\n",
    "    if list_of_integers:\n",
    "        average=sum(list_of_integers)/len(list_of_integers)\n",
    "        print(\"The average is:\",average)\n",
    "    else:\n",
    "        print(\"The list is empty,cannot calculate the average\")\n",
    "except ValueError:\n",
    "     print(\"Error: Please enter only integers.\")\n",
    "finally:\n",
    "     print(\"The program has finished running\")"
   ]
  },
  {
   "cell_type": "code",
   "execution_count": 19,
   "id": "41627662-715f-49fb-bc14-323e82c7059c",
   "metadata": {},
   "outputs": [
    {
     "name": "stdout",
     "output_type": "stream",
     "text": [
      "Welcome!The file was written successfully.\n"
     ]
    }
   ],
   "source": [
    "# EXERCISE 7\n",
    "try:\n",
    "    with open('D45_DELEENA_.txt', 'w') as abc:\n",
    "        abc.write(\"ENTRI DATA SCIENCE AND MACHINE LEARNING\") \n",
    "    print(\"Welcome!The file was written successfully.\")\n",
    "except FileNotFoundError:\n",
    "    print(\"Error:File'D45_DELEENA_.txt'not found\")\n",
    "except PermissionError:\n",
    "    print(\"Error:Permission dened to write to 'D45_DELEENA_.txt'.\")\n",
    "    filename=input(\"Enter the filename:\")\n",
    "    text=input(\"Enter the text to write:\")\n",
    "    "
   ]
  },
  {
   "cell_type": "code",
   "execution_count": null,
   "id": "7cb50d37-d06d-4828-9d29-b9e048376708",
   "metadata": {},
   "outputs": [],
   "source": []
  }
 ],
 "metadata": {
  "kernelspec": {
   "display_name": "Python [conda env:base] *",
   "language": "python",
   "name": "conda-base-py"
  },
  "language_info": {
   "codemirror_mode": {
    "name": "ipython",
    "version": 3
   },
   "file_extension": ".py",
   "mimetype": "text/x-python",
   "name": "python",
   "nbconvert_exporter": "python",
   "pygments_lexer": "ipython3",
   "version": "3.12.7"
  }
 },
 "nbformat": 4,
 "nbformat_minor": 5
}
