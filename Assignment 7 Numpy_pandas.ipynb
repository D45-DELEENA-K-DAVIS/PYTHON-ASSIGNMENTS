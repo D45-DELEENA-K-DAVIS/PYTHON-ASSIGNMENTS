{
 "cells": [
  {
   "cell_type": "code",
   "execution_count": 1,
   "id": "2893b0c3-0f4c-4c8e-8663-1caac8b23ee9",
   "metadata": {},
   "outputs": [
    {
     "name": "stdout",
     "output_type": "stream",
     "text": [
      "[[ 1  2  3  4  5]\n",
      " [ 6  7  8  9 10]]\n"
     ]
    }
   ],
   "source": [
    "# EXERCISE 1\n",
    "import numpy as np\n",
    "arr=np.arange(1,11)\n",
    "arr=arr.reshape(2,5)\n",
    "print(arr)"
   ]
  },
  {
   "cell_type": "code",
   "execution_count": 3,
   "id": "d3b38f25-d775-4c43-89c9-a04f5d8405e8",
   "metadata": {},
   "outputs": [
    {
     "name": "stdout",
     "output_type": "stream",
     "text": [
      "[ 6  7  8  9 10 11 12 13 14 15]\n"
     ]
    }
   ],
   "source": [
    "# EXERCISE 2\n",
    "import numpy as np\n",
    "arr=np.arange(1,21)\n",
    "arr=arr[5:15]\n",
    "print(arr)"
   ]
  },
  {
   "cell_type": "code",
   "execution_count": 21,
   "id": "69e89ac6-d5ee-41f0-bb44-626a6abc5ec3",
   "metadata": {},
   "outputs": [
    {
     "name": "stdout",
     "output_type": "stream",
     "text": [
      "apple      3\n",
      "bananas    2\n",
      "orange     1\n",
      "pears      4\n",
      "dtype: int64\n"
     ]
    }
   ],
   "source": [
    "# EXERCISE 3\n",
    "import pandas as pd\n",
    "series=pd.Series({'apple':3,'bananas':2,'orange':1})\n",
    "series['pears']=4\n",
    "print(series)"
   ]
  },
  {
   "cell_type": "code",
   "execution_count": 15,
   "id": "d99090ec-f21f-48a1-93dc-e47618c4b2bf",
   "metadata": {},
   "outputs": [
    {
     "name": "stdout",
     "output_type": "stream",
     "text": [
      "      Name  Age  Gender\n",
      "0    Snith   25    male\n",
      "1  Ashwini   26  female\n",
      "2   Najeeb   27    male\n",
      "3  Deleena   28  female\n",
      "4   Jeevan   29    male\n",
      "5  Arunima   30  female\n",
      "6    Rishi   31    male\n",
      "7  Abijith   32    male\n",
      "8   Sharon   33    male\n",
      "9    Ajith   34    male\n"
     ]
    }
   ],
   "source": [
    "# EXERCISE 4\n",
    "import pandas as pd \n",
    "import numpy as np\n",
    "data={\n",
    "    'Name':['Snith','Ashwini','Najeeb','Deleena','Jeevan','Arunima','Rishi','Abijith','Sharon','Ajith'],\n",
    "    'Age':np.arange(25,35),\n",
    "    'Gender':['male','female','male','female','male','female','male','male','male','male']\n",
    "}\n",
    "df=pd.DataFrame(data)\n",
    "print(df)"
   ]
  },
  {
   "cell_type": "code",
   "execution_count": 17,
   "id": "3c861859-b2c3-45da-8206-9b3499648903",
   "metadata": {},
   "outputs": [
    {
     "name": "stdout",
     "output_type": "stream",
     "text": [
      "      Name  Age  Gender  Occupation\n",
      "0    Snith   25    male  Programmer\n",
      "1  Ashwini   26  female     Manager\n",
      "2   Najeeb   27    male     Analyst\n",
      "3  Deleena   28  female  Programmer\n",
      "4   Jeevan   29    male     Manager\n",
      "5  Arunima   30  female     Analyst\n",
      "6    Rishi   31    male  Programmer\n",
      "7  Abijith   32    male     Manager\n",
      "8   Sharon   33    male     Analyst\n",
      "9    Ajith   34    male  Programmer\n"
     ]
    }
   ],
   "source": [
    "# EXERCISE 5\n",
    "df['Occupation']=['Programmer','Manager','Analyst','Programmer','Manager','Analyst','Programmer','Manager','Analyst','Programmer']\n",
    "print(df)"
   ]
  },
  {
   "cell_type": "code",
   "execution_count": 37,
   "id": "8cb8e0da-811c-433b-8011-83767e7e3c05",
   "metadata": {},
   "outputs": [
    {
     "name": "stdout",
     "output_type": "stream",
     "text": [
      "      Name  Age  Gender  Occupation\n",
      "5  Arunima   30  female     Analyst\n",
      "6    Rishi   31    male  Programmer\n",
      "7  Abijith   32    male     Manager\n",
      "8   Sharon   33    male     Analyst\n",
      "9    Ajith   34    male  Programmer\n"
     ]
    }
   ],
   "source": [
    "# EXERCISE 6\n",
    "selected_df = df[df['Age'] >= 30]\n",
    "print(selected_df)"
   ]
  },
  {
   "cell_type": "code",
   "execution_count": 41,
   "id": "7c7c3180-d8f0-4c64-b448-dc2a53c34b07",
   "metadata": {},
   "outputs": [
    {
     "name": "stdout",
     "output_type": "stream",
     "text": [
      "      Name  Age  Gender  Occupation\n",
      "0    Snith   25    male  Programmer\n",
      "1  Ashwini   26  female     Manager\n",
      "2   Najeeb   27    male     Analyst\n",
      "3  Deleena   28  female  Programmer\n",
      "4   Jeevan   29    male     Manager\n",
      "5  Arunima   30  female     Analyst\n",
      "6    Rishi   31    male  Programmer\n",
      "7  Abijith   32    male     Manager\n",
      "8   Sharon   33    male     Analyst\n",
      "9    Ajith   34    male  Programmer\n"
     ]
    }
   ],
   "source": [
    "# EXERCISE 7\n",
    "df.to_csv('data.csv' , index=False)\n",
    "df_read=pd.read_csv('data.csv')\n",
    "print(df_read)"
   ]
  },
  {
   "cell_type": "code",
   "execution_count": null,
   "id": "5cfef7f1-1291-42e6-aa53-78eff7089c20",
   "metadata": {},
   "outputs": [],
   "source": []
  }
 ],
 "metadata": {
  "kernelspec": {
   "display_name": "Python [conda env:base] *",
   "language": "python",
   "name": "conda-base-py"
  },
  "language_info": {
   "codemirror_mode": {
    "name": "ipython",
    "version": 3
   },
   "file_extension": ".py",
   "mimetype": "text/x-python",
   "name": "python",
   "nbconvert_exporter": "python",
   "pygments_lexer": "ipython3",
   "version": "3.12.7"
  }
 },
 "nbformat": 4,
 "nbformat_minor": 5
}
