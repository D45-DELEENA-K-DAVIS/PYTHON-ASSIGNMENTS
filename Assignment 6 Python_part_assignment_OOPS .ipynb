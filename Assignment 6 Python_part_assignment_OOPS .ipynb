{
 "cells": [
  {
   "cell_type": "code",
   "execution_count": 9,
   "id": "d4de8ba6-db9f-434c-9166-fdccf66ce562",
   "metadata": {},
   "outputs": [
    {
     "name": "stdout",
     "output_type": "stream",
     "text": [
      "CS101, INTRODUCTION TO COMPUTER SCIENCE,3 credit hours - Required for major\n",
      "MNC202, SUSTAINABLE ENGINEERING,2 credit hours - Elective Type: general information\n"
     ]
    }
   ],
   "source": [
    "# EXERCISE 1\n",
    "class Course:\n",
    "    def __init__(self, course_code, course_name, credit_hours):\n",
    "        self.course_code = course_code\n",
    "        self.course_name = course_name\n",
    "        self.credit_hours = credit_hours\n",
    "\n",
    "    def result(self):\n",
    "        return f\"{self.course_code}, {self.course_name},{self.credit_hours} credit hours\"\n",
    "\n",
    "class CoreCourse(Course):\n",
    "    def __init__(self, course_code, course_name, credit_hours, required_for_major):\n",
    "        super().__init__(course_code, course_name, credit_hours)\n",
    "        self.required_for_major = required_for_major\n",
    "\n",
    "    def result(self):\n",
    "        status = \"Required\" if self.required_for_major else \"Not Required\"\n",
    "        return f\"{super().result()} - {status} for major\"\n",
    "\n",
    "class ElectiveCourse(Course):\n",
    "    def __init__(self, course_code, course_name, credit_hours, elective_type):\n",
    "        super().__init__(course_code, course_name, credit_hours)\n",
    "        self.elective_type = elective_type\n",
    "\n",
    "    def result(self):\n",
    "        return f\"{super().result()} - Elective Type: {self.elective_type}\"\n",
    "\n",
    "\n",
    "core = CoreCourse(\"CS101\", \"INTRODUCTION TO COMPUTER SCIENCE\", 3,True )\n",
    "elective = ElectiveCourse(\"MNC202\", \"SUSTAINABLE ENGINEERING\", 2, \"general information\")\n",
    "\n",
    "\n",
    "print(core.result())\n",
    "print(elective.result())\n"
   ]
  },
  {
   "cell_type": "code",
   "execution_count": 31,
   "id": "4536b8b5-3e9a-4690-8e79-66d7649bc321",
   "metadata": {},
   "outputs": [
    {
     "name": "stdout",
     "output_type": "stream",
     "text": [
      "Employee Name: DELEENA\n",
      "Employee Salary: $50000\n"
     ]
    }
   ],
   "source": [
    "# EXERCISE 2\n",
    "\n",
    "class Employee:\n",
    "    def __init__(self, name, salary):\n",
    "        self.name = name\n",
    "        self.salary = salary\n",
    "\n",
    "    def get_name(self):\n",
    "        return self.name\n",
    "\n",
    "    def get_salary(self):\n",
    "        return self.salary\n",
    "\n",
    "\n",
    "employee_1 = Employee(\"DELEENA\", 50000)\n",
    "\n",
    "\n",
    "print(f\"Employee Name: {employee_1.get_name()}\")\n",
    "print(f\"Employee Salary: ${employee_1.get_salary()}\")\n"
   ]
  },
  {
   "cell_type": "code",
   "execution_count": null,
   "id": "9f2f1c39-e9f3-4690-bf55-bcdac37154d2",
   "metadata": {},
   "outputs": [],
   "source": []
  }
 ],
 "metadata": {
  "kernelspec": {
   "display_name": "Python [conda env:base] *",
   "language": "python",
   "name": "conda-base-py"
  },
  "language_info": {
   "codemirror_mode": {
    "name": "ipython",
    "version": 3
   },
   "file_extension": ".py",
   "mimetype": "text/x-python",
   "name": "python",
   "nbconvert_exporter": "python",
   "pygments_lexer": "ipython3",
   "version": "3.12.7"
  }
 },
 "nbformat": 4,
 "nbformat_minor": 5
}
