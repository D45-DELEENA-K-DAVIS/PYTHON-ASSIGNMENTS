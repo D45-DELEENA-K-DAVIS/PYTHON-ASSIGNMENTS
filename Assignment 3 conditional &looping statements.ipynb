{
 "cells": [
  {
   "cell_type": "code",
   "execution_count": 55,
   "id": "6b9b6801-2290-401d-ac79-83a28265313a",
   "metadata": {},
   "outputs": [
    {
     "name": "stdin",
     "output_type": "stream",
     "text": [
      "Enter the month:  5\n"
     ]
    },
    {
     "name": "stdout",
     "output_type": "stream",
     "text": [
      "MONTH 5 IS MAY\n"
     ]
    }
   ],
   "source": [
    "# EXERCISE 1\n",
    "month_number = int(input(\"Enter the month: \"))\n",
    "\n",
    "if month_number == 1:\n",
    "    print(\"MONTH 1 IS JANUARY\")\n",
    "elif month_number == 2:\n",
    "    print(\"MONTH 2 IS FEBRUARY\")\n",
    "elif month_number == 3:\n",
    "    print(\"MONTH 3 IS MARCH\")\n",
    "elif month_number == 4:\n",
    "    print(\"MONTH 4 IS APRIL\")\n",
    "elif month_number == 5:\n",
    "    print(\"MONTH 5 IS MAY\")\n",
    "elif month_number == 6:\n",
    "    print(\"MONTH 6 IS JUNE\")\n",
    "elif month_number == 7:\n",
    "    print(\"MONTH 7 IS JULY\")\n",
    "elif month_number == 8:\n",
    "    print(\"MONTH 8 IS AUGUST\")\n",
    "elif month_number == 9:\n",
    "    print(\"MONTH 9 IS SEPTEMBER\")\n",
    "elif month_number == 10:\n",
    "    print(\"MONTH 10 IS OCTOBER\")\n",
    "elif month_number == 11:\n",
    "    print(\"MONTH 11 IS NOVEMBER\")\n",
    "elif month_number == 12:\n",
    "    print(\"MONTH 12 IS DECEMBER\")\n",
    "else:\n",
    "    print(\"Invalid month number\")"
   ]
  },
  {
   "cell_type": "code",
   "execution_count": 95,
   "id": "8427baba-edfd-40dc-9c76-24184d63c1be",
   "metadata": {},
   "outputs": [
    {
     "name": "stdin",
     "output_type": "stream",
     "text": [
      "Enter the age: 65\n"
     ]
    },
    {
     "name": "stdout",
     "output_type": "stream",
     "text": [
      "Your ticket costs £ 2\n"
     ]
    }
   ],
   "source": [
    "# EXERCISE 2\n",
    "full_price = 6 \n",
    "age=int(input(\"Enter the age:\"))\n",
    "if age<=16:\n",
    "        ticket_price= 3\n",
    "elif age >= 60:\n",
    "    ticket_price = 2\n",
    "else:\n",
    "    ticket_price = full_price \n",
    "\n",
    "print(\"Your ticket costs £\",int(ticket_price))"
   ]
  },
  {
   "cell_type": "code",
   "execution_count": 25,
   "id": "d9a7d175-05f9-4ae8-87be-3c792e26134c",
   "metadata": {},
   "outputs": [
    {
     "name": "stdin",
     "output_type": "stream",
     "text": [
      "Enter your weight in kg: 55\n",
      "Enter your height in m: 1.60\n"
     ]
    },
    {
     "name": "stdout",
     "output_type": "stream",
     "text": [
      "your BMI is: 21.484374999999996\n",
      "you are in the \"WEIGHT\" range\n"
     ]
    }
   ],
   "source": [
    "# EXERCISE 3\n",
    "Weight=int(input(\"Enter your weight in kg:\"))\n",
    "Height=float(input(\"Enter your height in m:\"))\n",
    "BMI = Weight / (Height*Height)\n",
    "print(\"your BMI is:\",BMI)\n",
    "if BMI<18.5:\n",
    "    print('you are in the \"UNDERWEIGHT\" range')\n",
    "elif BMI<=24.9:\n",
    "    print('you are in the \"WEIGHT\" range')\n",
    "elif BMI<=29.9:\n",
    "    print('you are in the \"OVERWEIGHT\" range')\n",
    "elif BMI>=24.9:\n",
    "    print('you are in the \"OBESE\" range')    "
   ]
  },
  {
   "cell_type": "code",
   "execution_count": 49,
   "id": "9049970d-714a-46bd-a9fd-01e10eb926ba",
   "metadata": {},
   "outputs": [
    {
     "name": "stdin",
     "output_type": "stream",
     "text": [
      "Enter any number: 11\n",
      "Enter any number: 12\n",
      "Enter any number: 13\n"
     ]
    },
    {
     "name": "stdout",
     "output_type": "stream",
     "text": [
      "Greater is 13\n"
     ]
    }
   ],
   "source": [
    "# EXERCISE 4\n",
    "a=int(input(\"Enter any number:\"))\n",
    "b=int(input(\"Enter any number:\"))\n",
    "c=int(input(\"Enter any number:\"))\n",
    "if a<=b and b>c: \n",
    "    print(\"Greater is\",int(b))\n",
    "elif a<=c and b<=c:\n",
    "    print(\"Greater is\",int(c))\n",
    "else :\n",
    "    print(\"Greater is\",int(a))"
   ]
  },
  {
   "cell_type": "code",
   "execution_count": 5,
   "id": "e0d3ceda-8f8f-4e34-a5ec-b3a5cbe35e7a",
   "metadata": {},
   "outputs": [
    {
     "name": "stdin",
     "output_type": "stream",
     "text": [
      "Enter the number: 5\n"
     ]
    },
    {
     "name": "stdout",
     "output_type": "stream",
     "text": [
      "factorial of 5 is  120\n"
     ]
    }
   ],
   "source": [
    "# EXERCISE 5\n",
    "n=int(input(\"Enter the number:\"))\n",
    "factorial=1\n",
    "for i in range(1,n+1):\n",
    "    factorial=factorial*i\n",
    "print(\"factorial of\",n,\"is \",factorial)"
   ]
  },
  {
   "cell_type": "code",
   "execution_count": 7,
   "id": "04eb3da6-11c1-48f7-a454-08d58d3d170c",
   "metadata": {},
   "outputs": [
    {
     "name": "stdout",
     "output_type": "stream",
     "text": [
      "Reversed number:789\n"
     ]
    }
   ],
   "source": [
    "# EXERCISE 6\n",
    "number=987\n",
    "reversed_number=0\n",
    "while number!=0:\n",
    "    digit=number % 10\n",
    "    reversed_number=reversed_number*10+digit\n",
    "    number //=10\n",
    "print(\"Reversed number:\"+str(reversed_number))"
   ]
  },
  {
   "cell_type": "code",
   "execution_count": 9,
   "id": "fa10f225-b373-4676-8a6b-a5b2200fe4d1",
   "metadata": {},
   "outputs": [
    {
     "name": "stdin",
     "output_type": "stream",
     "text": [
      "Enter the number: 3\n"
     ]
    },
    {
     "name": "stdout",
     "output_type": "stream",
     "text": [
      "The multiples are:\n",
      "3  6  9  12  15  18  21  24  27  30  "
     ]
    }
   ],
   "source": [
    "# EXERCISE 7\n",
    "n=int(input(\"Enter the number:\"))\n",
    "print(\"The multiples are:\")\n",
    "for i in range(1,11):\n",
    "    print(n*i,end=\"  \")"
   ]
  },
  {
   "cell_type": "code",
   "execution_count": 1,
   "id": "dcb63a4e-33e5-4791-90df-cfb7c9de074c",
   "metadata": {},
   "outputs": [
    {
     "name": "stdin",
     "output_type": "stream",
     "text": [
      ": hello there\n"
     ]
    },
    {
     "name": "stdout",
     "output_type": "stream",
     "text": [
      "hello there\n"
     ]
    },
    {
     "name": "stdin",
     "output_type": "stream",
     "text": [
      ": finished\n"
     ]
    },
    {
     "name": "stdout",
     "output_type": "stream",
     "text": [
      "finished\n"
     ]
    },
    {
     "name": "stdin",
     "output_type": "stream",
     "text": [
      ": done\n"
     ]
    },
    {
     "name": "stdout",
     "output_type": "stream",
     "text": [
      "done\n"
     ]
    }
   ],
   "source": [
    "# EXERSISE 8 \n",
    "while True:\n",
    "    user_input=input(\":\")\n",
    "    print(user_input)\n",
    "    if user_input.lower()==\"done\":\n",
    "        break"
   ]
  },
  {
   "cell_type": "code",
   "execution_count": 27,
   "id": "62cd0447-beec-430d-a9b0-c0119ea21052",
   "metadata": {},
   "outputs": [
    {
     "name": "stdout",
     "output_type": "stream",
     "text": [
      "1\n",
      "2\n",
      "Fizz\n",
      "4\n",
      "Buzz\n",
      "Fizz\n",
      "7\n",
      "8\n",
      "Fizz\n"
     ]
    }
   ],
   "source": [
    "# EXERCISE 9\n",
    "for number in range(1,10):\n",
    "    if number % 3 == 0 and number % 5 == 0:\n",
    "        print(\"FizzBuzz\")\n",
    "    elif number % 3 == 0:\n",
    "        print(\"Fizz\")\n",
    "    elif number % 5 == 0:\n",
    "        print(\"Buzz\")\n",
    "    else:\n",
    "        print(number)"
   ]
  },
  {
   "cell_type": "code",
   "execution_count": 21,
   "id": "b55b1b87-1e9b-4b9f-89a0-208096abce1b",
   "metadata": {},
   "outputs": [
    {
     "name": "stdout",
     "output_type": "stream",
     "text": [
      "5 4 3 2 1\n",
      "4 3 2 1\n",
      "3 2 1\n",
      "2 1\n",
      "1\n"
     ]
    }
   ],
   "source": [
    "# EXERCISE 10\n",
    "print(\"5 4 3 2 1\")\n",
    "print(\"4 3 2 1\")\n",
    "print(\"3 2 1\")\n",
    "print(\"2 1\")\n",
    "print(\"1\")"
   ]
  }
 ],
 "metadata": {
  "kernelspec": {
   "display_name": "Python [conda env:base] *",
   "language": "python",
   "name": "conda-base-py"
  },
  "language_info": {
   "codemirror_mode": {
    "name": "ipython",
    "version": 3
   },
   "file_extension": ".py",
   "mimetype": "text/x-python",
   "name": "python",
   "nbconvert_exporter": "python",
   "pygments_lexer": "ipython3",
   "version": "3.12.7"
  }
 },
 "nbformat": 4,
 "nbformat_minor": 5
}
